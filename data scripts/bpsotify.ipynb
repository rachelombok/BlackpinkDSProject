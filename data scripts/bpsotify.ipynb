{
 "metadata": {
  "language_info": {
   "codemirror_mode": {
    "name": "ipython",
    "version": 3
   },
   "file_extension": ".py",
   "mimetype": "text/x-python",
   "name": "python",
   "nbconvert_exporter": "python",
   "pygments_lexer": "ipython3",
   "version": "3.7.9-final"
  },
  "orig_nbformat": 2,
  "kernelspec": {
   "name": "python_defaultSpec_1598240399860",
   "display_name": "Python 3.7.9 64-bit"
  }
 },
 "nbformat": 4,
 "nbformat_minor": 2,
 "cells": [
  {
   "cell_type": "code",
   "execution_count": 7,
   "metadata": {
    "tags": []
   },
   "outputs": [
    {
     "output_type": "execute_result",
     "data": {
      "text/plain": "      Artist Name                   Track Name  Danceability  Energy  Key  \\\nIndex                                                                       \n1             BTS              Intro : Persona         0.469   0.870    9   \n2             BTS  Boy With Luv (Feat. Halsey)         0.645   0.862   11   \n3             BTS                Make It Right         0.638   0.703    7   \n4             BTS                    Jamais Vu         0.608   0.470    8   \n5             BTS                     Dionysus         0.502   0.910    7   \n6             BTS           Interlude : Shadow         0.385   0.798    9   \n\n       Loudness  Speechiness  Accousticness  Instrumentalness  Liveness  \\\nIndex                                                                     \n1        -4.475       0.3420         0.0278               0.0    0.3130   \n2        -4.757       0.0965         0.0923               0.0    0.1920   \n3        -7.874       0.4440         0.0104               0.0    0.1320   \n4        -6.730       0.0428         0.2260               0.0    0.0963   \n5        -2.769       0.1070         0.0400               0.0    0.3190   \n6        -6.439       0.4830         0.1150               0.0    0.1810   \n\n       Valence    Tempo  Duration MS Release Date  \nIndex                                              \n1        0.652   86.622       171023   2019-04-12  \n2        0.798  119.991       229773   2020-02-21  \n3        0.261  105.766       226321   2019-04-12  \n4        0.241   81.000       227275   2019-04-12  \n5        0.588  176.084       249215   2019-04-12  \n6        0.141  149.756       259821   2020-02-21  ",
      "text/html": "<div>\n<style scoped>\n    .dataframe tbody tr th:only-of-type {\n        vertical-align: middle;\n    }\n\n    .dataframe tbody tr th {\n        vertical-align: top;\n    }\n\n    .dataframe thead th {\n        text-align: right;\n    }\n</style>\n<table border=\"1\" class=\"dataframe\">\n  <thead>\n    <tr style=\"text-align: right;\">\n      <th></th>\n      <th>Artist Name</th>\n      <th>Track Name</th>\n      <th>Danceability</th>\n      <th>Energy</th>\n      <th>Key</th>\n      <th>Loudness</th>\n      <th>Speechiness</th>\n      <th>Accousticness</th>\n      <th>Instrumentalness</th>\n      <th>Liveness</th>\n      <th>Valence</th>\n      <th>Tempo</th>\n      <th>Duration MS</th>\n      <th>Release Date</th>\n    </tr>\n    <tr>\n      <th>Index</th>\n      <th></th>\n      <th></th>\n      <th></th>\n      <th></th>\n      <th></th>\n      <th></th>\n      <th></th>\n      <th></th>\n      <th></th>\n      <th></th>\n      <th></th>\n      <th></th>\n      <th></th>\n      <th></th>\n    </tr>\n  </thead>\n  <tbody>\n    <tr>\n      <th>1</th>\n      <td>BTS</td>\n      <td>Intro : Persona</td>\n      <td>0.469</td>\n      <td>0.870</td>\n      <td>9</td>\n      <td>-4.475</td>\n      <td>0.3420</td>\n      <td>0.0278</td>\n      <td>0.0</td>\n      <td>0.3130</td>\n      <td>0.652</td>\n      <td>86.622</td>\n      <td>171023</td>\n      <td>2019-04-12</td>\n    </tr>\n    <tr>\n      <th>2</th>\n      <td>BTS</td>\n      <td>Boy With Luv (Feat. Halsey)</td>\n      <td>0.645</td>\n      <td>0.862</td>\n      <td>11</td>\n      <td>-4.757</td>\n      <td>0.0965</td>\n      <td>0.0923</td>\n      <td>0.0</td>\n      <td>0.1920</td>\n      <td>0.798</td>\n      <td>119.991</td>\n      <td>229773</td>\n      <td>2020-02-21</td>\n    </tr>\n    <tr>\n      <th>3</th>\n      <td>BTS</td>\n      <td>Make It Right</td>\n      <td>0.638</td>\n      <td>0.703</td>\n      <td>7</td>\n      <td>-7.874</td>\n      <td>0.4440</td>\n      <td>0.0104</td>\n      <td>0.0</td>\n      <td>0.1320</td>\n      <td>0.261</td>\n      <td>105.766</td>\n      <td>226321</td>\n      <td>2019-04-12</td>\n    </tr>\n    <tr>\n      <th>4</th>\n      <td>BTS</td>\n      <td>Jamais Vu</td>\n      <td>0.608</td>\n      <td>0.470</td>\n      <td>8</td>\n      <td>-6.730</td>\n      <td>0.0428</td>\n      <td>0.2260</td>\n      <td>0.0</td>\n      <td>0.0963</td>\n      <td>0.241</td>\n      <td>81.000</td>\n      <td>227275</td>\n      <td>2019-04-12</td>\n    </tr>\n    <tr>\n      <th>5</th>\n      <td>BTS</td>\n      <td>Dionysus</td>\n      <td>0.502</td>\n      <td>0.910</td>\n      <td>7</td>\n      <td>-2.769</td>\n      <td>0.1070</td>\n      <td>0.0400</td>\n      <td>0.0</td>\n      <td>0.3190</td>\n      <td>0.588</td>\n      <td>176.084</td>\n      <td>249215</td>\n      <td>2019-04-12</td>\n    </tr>\n    <tr>\n      <th>6</th>\n      <td>BTS</td>\n      <td>Interlude : Shadow</td>\n      <td>0.385</td>\n      <td>0.798</td>\n      <td>9</td>\n      <td>-6.439</td>\n      <td>0.4830</td>\n      <td>0.1150</td>\n      <td>0.0</td>\n      <td>0.1810</td>\n      <td>0.141</td>\n      <td>149.756</td>\n      <td>259821</td>\n      <td>2020-02-21</td>\n    </tr>\n  </tbody>\n</table>\n</div>"
     },
     "metadata": {},
     "execution_count": 7
    }
   ],
   "source": [
    "import pandas as pd\n",
    "import numpy as np\n",
    "import seaborn as sns\n",
    "import matplotlib.pyplot as plt\n",
    "\n",
    "kpop_data = pd.read_csv('../data/music/kpop_songs_data.csv', index_col = 0)\n",
    "kpop_data.head(6)"
   ]
  },
  {
   "cell_type": "code",
   "execution_count": null,
   "metadata": {},
   "outputs": [],
   "source": []
  }
 ]
}